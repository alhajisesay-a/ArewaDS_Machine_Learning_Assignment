{
 "cells": [
  {
   "cell_type": "markdown",
   "metadata": {},
   "source": [
    "# Data Visualization"
   ]
  },
  {
   "cell_type": "markdown",
   "metadata": {},
   "source": [
    "> As data scientists, one of our most powerful tools is the ability to visualize data. A well-crafted chart or graph can reveal insights that raw numbers alone cannot. \n",
    "\n",
    "> As the saying goes, \"A picture is worth a thousand words,\" and in data science, a good visualization can expose trends, outliers, patterns, and relationships that help us understand the story behind the data.\n",
    "\n"
   ]
  },
  {
   "cell_type": "markdown",
   "metadata": {},
   "source": [
    "## Diff\n",
    "\n",
    "we will explore four key categories of data visualization, each serving a different purpose:\n",
    "\n",
    "\n",
    "- Visualizing Quantities – Comparing magnitudes.\n",
    "\n",
    "- Visualizing Distributions – Understanding spread and shape.\n",
    "\n",
    "- Visualizing Proportions – Showing parts of a whole.\n",
    "\n",
    "- Visualizing Relationships – Examining correlations and interactions.\n",
    "\n"
   ]
  },
  {
   "cell_type": "markdown",
   "metadata": {},
   "source": [
    "## Viz Quantities"
   ]
  },
  {
   "cell_type": "markdown",
   "metadata": {
    "vscode": {
     "languageId": "plaintext"
    }
   },
   "source": [
    "- **Definition:** Comparing absolute values across categories\n",
    "\n",
    "- **When to Use:**\n",
    "\n",
    "  - Comparing discrete counts (sales, votes, etc.)\n",
    "  \n",
    "  - Highlighting rankings or differences\n",
    "\n",
    "\n",
    "### Real-World Examples\n",
    "\n",
    "- Election results by political party\n",
    "\n",
    "- Monthly revenue across departments\n",
    "\n",
    "- Population by country"
   ]
  },
  {
   "cell_type": "markdown",
   "metadata": {},
   "source": [
    "### 1. Visualizing Quantities – Comparing Magnitudes\n",
    "\n",
    "**Purpose:** This category is all about **comparing the \"how much\" or \"how many\"** of different items, categories, or groups. You use these visualizations when you want to see which items are bigger, smaller, or roughly equal in value.\n",
    "\n",
    "**When to use it:**\n",
    "\n",
    "* Comparing sales figures across different product lines.\n",
    "  \n",
    "* Showing the population of different cities.\n",
    "\n",
    "* Comparing the performance of various marketing campaigns.\n",
    "\n",
    "* Tracking a single value over time.\n",
    "\n",
    "**Common Chart Types:**\n",
    "\n",
    "* **Bar Charts / Column Charts:** These are your go-to for comparing discrete categories. The length of the bar (or height of the column) represents the quantity.\n",
    "\n",
    "    * **Example:** Imagine you're analyzing the **number of cars sold by different models** at a dealership last month. \n",
    "    \n",
    "    * A bar chart would quickly show you which model (e.g., Sedan, SUV, Truck) sold the most units, making it easy to see the top performers at a glance.\n",
    "\n",
    "* **Line Charts:** While often used for relationships over time, they also compare quantities. When you're tracking a single quantity's change over a continuous period (like days, months, or years), a line chart is perfect.\n",
    "\n",
    "    * **Example:** If you're tracking the **daily stock price of a company** over a year, a line chart will clearly illustrate its upward or downward movement, showing peaks and valleys and the overall trend over that period.\n",
    "\n",
    "\n",
    "- **Data Types:**\n",
    "  \n",
    "  - X-axis: Categorical (nominal/ordinal)\n",
    "   \n",
    "  - Y-axis: Numerical (discrete/continuous)\n"
   ]
  },
  {
   "cell_type": "markdown",
   "metadata": {},
   "source": [
    "## 2. Chart Types \n",
    "\n",
    "### A. Bar Charts\n",
    "\n",
    "\n",
    "**Best for:** Comparing 3+ categories  \n",
    "\n",
    "**Rules:**\n",
    "\n",
    "- Sort bars by value (descending) unless data is ordinal\n",
    "\n",
    "- Always start y-axis at 0\n",
    "\n",
    "- Use consistent colors\n"
   ]
  },
  {
   "cell_type": "code",
   "execution_count": 4,
   "metadata": {},
   "outputs": [
    {
     "data": {
      "text/plain": [
       "[1000, 5000, 10000]"
      ]
     },
     "execution_count": 4,
     "metadata": {},
     "output_type": "execute_result"
    }
   ],
   "source": [
    "import matplotlib.pyplot as plt\n",
    "\n",
    "products = ['Laptops', 'Phones', 'Tablets']\n",
    "sales = [1000, 5000, 10000]\n",
    "sales"
   ]
  },
  {
   "cell_type": "code",
   "execution_count": 5,
   "metadata": {},
   "outputs": [
    {
     "data": {
      "text/plain": [
       "Text(0, 0.5, 'Units Sold (thousands)')"
      ]
     },
     "execution_count": 5,
     "metadata": {},
     "output_type": "execute_result"
    },
    {
     "data": {
      "image/png": "[encoded data removed]",
      "text/plain": [
       "<Figure size 640x480 with 1 Axes>"
      ]
     },
     "metadata": {},
     "output_type": "display_data"
    }
   ],
   "source": [
    "plt.bar(products, sales, color='b')\n",
    "plt.title('Q3 Sales by Product')\n",
    "plt.xlabel('Product Category')\n",
    "plt.ylabel('Units Sold (thousands)')"
   ]
  },
  {
   "cell_type": "markdown",
   "metadata": {},
   "source": [
    "  **Example:** Imagine you're analyzing the **number of cars sold by different models** at a dealership last month. A bar chart would quickly show you which model (e.g., Sedan, SUV, Truck) sold the most units, making it easy to see the top performers at a glance.\n"
   ]
  },
  {
   "cell_type": "code",
   "execution_count": 6,
   "metadata": {},
   "outputs": [
    {
     "data": {
      "text/plain": [
       "{'Model': ['Sedan', 'SUV', 'Truck', 'Hatchback'],\n",
       " 'Units Sold': [150, 220, 180, 90]}"
      ]
     },
     "execution_count": 6,
     "metadata": {},
     "output_type": "execute_result"
    }
   ],
   "source": [
    "import pandas as pd\n",
    "import matplotlib.pyplot as plt\n",
    "\n",
    "\n",
    "# Sample Data: Car sales by model\n",
    "data = {'Model': ['Sedan', 'SUV', 'Truck', 'Hatchback'],\n",
    "            'Units Sold': [150, 220, 180, 90]}\n",
    "\n",
    "data"
   ]
  },
  {
   "cell_type": "code",
   "execution_count": 7,
   "metadata": {},
   "outputs": [
    {
     "data": {
      "application/vnd.microsoft.datawrangler.viewer.v0+json": {
       "columns": [
        {
         "name": "index",
         "rawType": "int64",
         "type": "integer"
        },
        {
         "name": "Model",
         "rawType": "object",
         "type": "string"
        },
        {
         "name": "Units Sold",
         "rawType": "int64",
         "type": "integer"
        }
       ],
       "ref": "e9230661-b94e-4e15-bdae-8f9ab14742b9",
       "rows": [
        [
         "0",
         "Sedan",
         "150"
        ],
        [
         "1",
         "SUV",
         "220"
        ],
        [
         "2",
         "Truck",
         "180"
        ],
        [
         "3",
         "Hatchback",
         "90"
        ]
       ],
       "shape": {
        "columns": 2,
        "rows": 4
       }
      },
      "text/html": [
       "<div>\n",
       "<style scoped>\n",
       "    .dataframe tbody tr th:only-of-type {\n",
       "        vertical-align: middle;\n",
       "    }\n",
       "\n",
       "    .dataframe tbody tr th {\n",
       "        vertical-align: top;\n",
       "    }\n",
       "\n",
       "    .dataframe thead th {\n",
       "        text-align: right;\n",
       "    }\n",
       "</style>\n",
       "<table border=\"1\" class=\"dataframe\">\n",
       "  <thead>\n",
       "    <tr style=\"text-align: right;\">\n",
       "      <th></th>\n",
       "      <th>Model</th>\n",
       "      <th>Units Sold</th>\n",
       "    </tr>\n",
       "  </thead>\n",
       "  <tbody>\n",
       "    <tr>\n",
       "      <th>0</th>\n",
       "      <td>Sedan</td>\n",
       "      <td>150</td>\n",
       "    </tr>\n",
       "    <tr>\n",
       "      <th>1</th>\n",
       "      <td>SUV</td>\n",
       "      <td>220</td>\n",
       "    </tr>\n",
       "    <tr>\n",
       "      <th>2</th>\n",
       "      <td>Truck</td>\n",
       "      <td>180</td>\n",
       "    </tr>\n",
       "    <tr>\n",
       "      <th>3</th>\n",
       "      <td>Hatchback</td>\n",
       "      <td>90</td>\n",
       "    </tr>\n",
       "  </tbody>\n",
       "</table>\n",
       "</div>"
      ],
      "text/plain": [
       "       Model  Units Sold\n",
       "0      Sedan         150\n",
       "1        SUV         220\n",
       "2      Truck         180\n",
       "3  Hatchback          90"
      ]
     },
     "execution_count": 7,
     "metadata": {},
     "output_type": "execute_result"
    }
   ],
   "source": [
    "    # Create a DataFrame from the data\n",
    "    df_sales = pd.DataFrame(data)\n",
    "    df_sales"
   ]
  },
  {
   "cell_type": "code",
   "execution_count": 9,
   "metadata": {},
   "outputs": [
    {
     "data": {
      "application/vnd.microsoft.datawrangler.viewer.v0+json": {
       "columns": [
        {
         "name": "index",
         "rawType": "int64",
         "type": "integer"
        },
        {
         "name": "Units Sold",
         "rawType": "int64",
         "type": "integer"
        }
       ],
       "ref": "c1179ded-1454-48c9-bcee-53e5394eaf27",
       "rows": [
        [
         "0",
         "150"
        ],
        [
         "1",
         "220"
        ],
        [
         "2",
         "180"
        ],
        [
         "3",
         "90"
        ]
       ],
       "shape": {
        "columns": 1,
        "rows": 4
       }
      },
      "text/plain": [
       "0    150\n",
       "1    220\n",
       "2    180\n",
       "3     90\n",
       "Name: Units Sold, dtype: int64"
      ]
     },
     "execution_count": 9,
     "metadata": {},
     "output_type": "execute_result"
    }
   ],
   "source": [
    "df_sales['Units Sold']"
   ]
  },
  {
   "cell_type": "code",
   "execution_count": 14,
   "metadata": {},
   "outputs": [
    {
     "data": {
      "image/png": "[encoded data removed]",
      "text/plain": [
       "<Figure size 800x500 with 1 Axes>"
      ]
     },
     "metadata": {},
     "output_type": "display_data"
    }
   ],
   "source": [
    "# Plotting the car sales data\n",
    "plt.figure(figsize=(8, 5)) # Set the figure size\n",
    "plt.bar(df_sales['Model'], df_sales['Units Sold'], color=['skyblue', 'lightcoral', 'lightgreen', 'gold'])\n",
    "plt.xlabel('Car Model')\n",
    "plt.ylabel('Units Sold')\n",
    "plt.title('Units Sold by Car Model Last Month')\n",
    "plt.show()"
   ]
  },
  {
   "cell_type": "markdown",
   "metadata": {},
   "source": [
    "#### **Example:** \n",
    "\n",
    "If you're tracking the **daily stock price of a company** over a year, a line chart will clearly illustrate its upward or downward movement, showing peaks and valleys and the overall trend over that period.\n"
   ]
  },
  {
   "cell_type": "code",
   "execution_count": 15,
   "metadata": {},
   "outputs": [
    {
     "data": {
      "application/vnd.microsoft.datawrangler.viewer.v0+json": {
       "columns": [
        {
         "name": "index",
         "rawType": "int64",
         "type": "integer"
        },
        {
         "name": "Month",
         "rawType": "object",
         "type": "string"
        },
        {
         "name": "Savings (£)",
         "rawType": "int64",
         "type": "integer"
        }
       ],
       "ref": "c28ca0a1-656d-4cb8-a0d8-3f9b3c9ffe8e",
       "rows": [
        [
         "0",
         "Jan",
         "100"
        ],
        [
         "1",
         "Feb",
         "150"
        ],
        [
         "2",
         "Mar",
         "180"
        ],
        [
         "3",
         "Apr",
         "250"
        ],
        [
         "4",
         "May",
         "230"
        ],
        [
         "5",
         "Jun",
         "300"
        ]
       ],
       "shape": {
        "columns": 2,
        "rows": 6
       }
      },
      "text/html": [
       "<div>\n",
       "<style scoped>\n",
       "    .dataframe tbody tr th:only-of-type {\n",
       "        vertical-align: middle;\n",
       "    }\n",
       "\n",
       "    .dataframe tbody tr th {\n",
       "        vertical-align: top;\n",
       "    }\n",
       "\n",
       "    .dataframe thead th {\n",
       "        text-align: right;\n",
       "    }\n",
       "</style>\n",
       "<table border=\"1\" class=\"dataframe\">\n",
       "  <thead>\n",
       "    <tr style=\"text-align: right;\">\n",
       "      <th></th>\n",
       "      <th>Month</th>\n",
       "      <th>Savings (£)</th>\n",
       "    </tr>\n",
       "  </thead>\n",
       "  <tbody>\n",
       "    <tr>\n",
       "      <th>0</th>\n",
       "      <td>Jan</td>\n",
       "      <td>100</td>\n",
       "    </tr>\n",
       "    <tr>\n",
       "      <th>1</th>\n",
       "      <td>Feb</td>\n",
       "      <td>150</td>\n",
       "    </tr>\n",
       "    <tr>\n",
       "      <th>2</th>\n",
       "      <td>Mar</td>\n",
       "      <td>180</td>\n",
       "    </tr>\n",
       "    <tr>\n",
       "      <th>3</th>\n",
       "      <td>Apr</td>\n",
       "      <td>250</td>\n",
       "    </tr>\n",
       "    <tr>\n",
       "      <th>4</th>\n",
       "      <td>May</td>\n",
       "      <td>230</td>\n",
       "    </tr>\n",
       "    <tr>\n",
       "      <th>5</th>\n",
       "      <td>Jun</td>\n",
       "      <td>300</td>\n",
       "    </tr>\n",
       "  </tbody>\n",
       "</table>\n",
       "</div>"
      ],
      "text/plain": [
       "  Month  Savings (£)\n",
       "0   Jan          100\n",
       "1   Feb          150\n",
       "2   Mar          180\n",
       "3   Apr          250\n",
       "4   May          230\n",
       "5   Jun          300"
      ]
     },
     "execution_count": 15,
     "metadata": {},
     "output_type": "execute_result"
    }
   ],
   "source": [
    "# Sample Data: Monthly savings\n",
    "data = {'Month': ['Jan', 'Feb', 'Mar', 'Apr', 'May', 'Jun'],\n",
    "            'Savings (£)': [100, 150, 180, 250, 230, 300]}\n",
    "df_savings = pd.DataFrame(data)\n",
    "df_savings"
   ]
  },
  {
   "cell_type": "code",
   "execution_count": 22,
   "metadata": {},
   "outputs": [
    {
     "data": {
      "image/png": "[encoded data removed]",
      "text/plain": [
       "<Figure size 1000x600 with 1 Axes>"
      ]
     },
     "metadata": {},
     "output_type": "display_data"
    }
   ],
   "source": [
    "plt.figure(figsize=(10, 6))\n",
    "plt.plot(df_savings['Month'], df_savings['Savings (£)'], marker='o', linestyle='-', color='purple')\n",
    "plt.xlabel('Month')\n",
    "plt.ylabel('Savings (£)')\n",
    "plt.title('Monthly Personal Savings Growth')\n",
    "plt.grid(True, linestyle='--', alpha=0.6)\n",
    "plt.show()"
   ]
  },
  {
   "cell_type": "markdown",
   "metadata": {},
   "source": [
    "Grids are very useful in data visualization because they:\n",
    "\n",
    "- Aid in readability: They make it easier to estimate values along the axes for data points that don't fall directly on a major tick mark.\n",
    "\n",
    "- Improve precision: They help in comparing the positions of different data points more accurately."
   ]
  },
  {
   "cell_type": "markdown",
   "metadata": {},
   "source": [
    "### Matplotlib Cheat Sheet\n",
    "\n",
    "Use matplotlib cheat sheet for quick reference on how to create and customize bar charts, line charts, and other visualizations.\n",
    "\n",
    "\n"
   ]
  },
  {
   "cell_type": "markdown",
   "metadata": {},
   "source": [
    "### Build a line plot about bird wingspan values"
   ]
  },
  {
   "cell_type": "code",
   "execution_count": null,
   "metadata": {},
   "outputs": [],
   "source": [
    "import pandas as pd\n",
    "import matplotlib.pyplot as plt\n",
    "birds = pd.read_csv('../../data/birds.csv')\n",
    "birds.head()"
   ]
  },
  {
   "cell_type": "markdown",
   "metadata": {},
   "source": [
    "This data is a mix of text and numbers:"
   ]
  },
  {
   "cell_type": "markdown",
   "metadata": {},
   "source": [
    "Let's start by plotting some of the numeric data using a basic line plot. Suppose you wanted a view of the maximum wingspan for these interesting birds."
   ]
  },
  {
   "cell_type": "code",
   "execution_count": null,
   "metadata": {},
   "outputs": [],
   "source": [
    "wingspan = birds['MaxWingspan'] \n",
    "wingspan"
   ]
  },
  {
   "cell_type": "code",
   "execution_count": null,
   "metadata": {},
   "outputs": [],
   "source": [
    "wingspan.plot()"
   ]
  },
  {
   "cell_type": "markdown",
   "metadata": {},
   "source": [
    "- What do you notice immediately? There seems to be at least one outlier - that's quite a wingspan! A **2300** centimeter wingspan equals 23 meters\n",
    "\n",
    "- Lets investigate this outlier further by adding labels to the data points on x axis"
   ]
  },
  {
   "cell_type": "code",
   "execution_count": null,
   "metadata": {},
   "outputs": [],
   "source": [
    "x = birds['Name'] \n",
    "y = birds['MaxWingspan']\n",
    "\n",
    "\n",
    "plt.title('Max Wingspan in Centimeters')\n",
    "plt.ylabel('Wingspan (CM)')\n",
    "plt.xlabel('Birds')\n",
    "plt.xticks(rotation=45)\n",
    "\n",
    "plt.plot(x, y)"
   ]
  },
  {
   "cell_type": "markdown",
   "metadata": {},
   "source": [
    "- Even with the rotation of the labels set to 45 degrees, there are too many to read. \n",
    "\n",
    "- Let's try a different strategy: label only those outliers and set the labels within the chart. You can use a scatter chart to make more room for the labeling:\n"
   ]
  },
  {
   "cell_type": "code",
   "execution_count": null,
   "metadata": {},
   "outputs": [],
   "source": [
    "plt.title('Max Wingspan in Centimeters')\n",
    "plt.ylabel('Wingspan (CM)')\n",
    "plt.tick_params(axis='both',which='both',labelbottom=False,bottom=False)\n",
    "\n",
    "for i in range(len(birds)):\n",
    "    x = birds['Name'][i]\n",
    "    y = birds['MaxWingspan'][i]\n",
    "    plt.plot(x, y, 'bo')\n",
    "    if birds['MaxWingspan'][i] > 500:\n",
    "        plt.text(x, y * (1 - 0.05), birds['Name'][i], fontsize=12)\n",
    "    \n",
    "plt.show()"
   ]
  },
  {
   "cell_type": "markdown",
   "metadata": {},
   "source": [
    "> We used tick_params to hide the bottom labels and then created a loop over your birds dataset. Plotting the chart with small round blue dots by using bo, we checked for any bird with a maximum wingspan over 500 and displayed their label next to the dot if so. You offset the labels a little on the y axis (y * (1 - 0.05)) and used the bird name as a label."
   ]
  },
  {
   "cell_type": "markdown",
   "metadata": {},
   "source": [
    "Now that we have a cleaner dataset at least in terms of wingspan, let's discover more about these birds.\n"
   ]
  },
  {
   "cell_type": "markdown",
   "metadata": {},
   "source": [
    "# Birds Dataset Analysis\n",
    "\n",
    "- How many categories of birds are there, and what are their numbers? \n",
    "\n",
    "- How many birds are extinct, endangered, rare, or common? How many are there of the various genus and orders in Linnaeus's terminology?"
   ]
  },
  {
   "cell_type": "code",
   "execution_count": null,
   "metadata": {},
   "outputs": [],
   "source": [
    "birds = pd.read_csv('../../data/birds.csv')\n",
    "birds.head()"
   ]
  },
  {
   "cell_type": "code",
   "execution_count": null,
   "metadata": {},
   "outputs": [],
   "source": [
    "birds.plot(x='Category',\n",
    "        kind='bar',\n",
    "        stacked=True,\n",
    "        title='Birds of Minnesota')\n",
    "\n",
    "# Yes, this code is ultimately using Matplotlib under the hood."
   ]
  },
  {
   "cell_type": "markdown",
   "metadata": {},
   "source": [
    "> The `.plot()` method on a Pandas DataFrame, acts as a convenient wrapper. It takes your arguments (like x, kind, stacked, title) and then uses Matplotlib to generate the actual visualization."
   ]
  },
  {
   "cell_type": "markdown",
   "metadata": {},
   "source": [
    "- This bar chart, however, is unreadable because there is too much non-grouped data. \n",
    "  \n",
    "- You need to select only the data that you want to plot, so let's look at the length of birds based on their category.\n",
    "  \n",
    "- Filter your data to include only the bird's category."
   ]
  },
  {
   "cell_type": "code",
   "execution_count": null,
   "metadata": {},
   "outputs": [],
   "source": [
    "category_count = birds.value_counts(birds['Category'].values, sort=True)\n",
    "category_count"
   ]
  },
  {
   "cell_type": "code",
   "execution_count": null,
   "metadata": {},
   "outputs": [],
   "source": [
    "plt.rcParams['figure.figsize'] = [6, 12]\n",
    "category_count.plot.barh()\n",
    "\n",
    "\n",
    "#`rcParams` is s a dictionary-like object in Matplotlib that stores all the default settings for plots. \n",
    "# When Matplotlib creates a new figure or a new plot element (like lines, text, axes, etc.), it looks up its default properties in rcParams.\n",
    "#By modifying rcParams, you are changing Matplotlib's default behavior for any plots created after this line of code."
   ]
  },
  {
   "cell_type": "markdown",
   "metadata": {},
   "source": [
    "> This bar chart shows a good view of the number of birds in each category. In a blink of an eye, you see that the largest number of birds in this region are in the Ducks/Geese/Waterfowl category."
   ]
  },
  {
   "cell_type": "code",
   "execution_count": null,
   "metadata": {},
   "outputs": [],
   "source": []
  }
 ],
 "metadata": {
  "kernelspec": {
   "display_name": "Python 3",
   "language": "python",
   "name": "python3"
  },
  "language_info": {
   "codemirror_mode": {
    "name": "ipython",
    "version": 3
   },
   "file_extension": ".py",
   "mimetype": "text/x-python",
   "name": "python",
   "nbconvert_exporter": "python",
   "pygments_lexer": "ipython3",
   "version": "3.9.13"
  },
  "orig_nbformat": 4
 },
 "nbformat": 4,
 "nbformat_minor": 2
}
